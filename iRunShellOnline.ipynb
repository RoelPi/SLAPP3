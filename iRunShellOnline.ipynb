{
 "cells": [
  {
   "cell_type": "markdown",
   "metadata": {},
   "source": [
    "To start a project, press the button ▶︎****|**** (or Shift+Enter), paying attention to the cursor: it has to be in the cell below.\n",
    "\n",
    "Projects you can choose:\n",
    "\n",
    "* **basic** [documented in the *Reference Handbook*, at [https://github.com/terna/SLAPP](https://github.com/terna/SLAPP)]\n",
    "* **basic2classes** [documented in the *Reference Handbook*, at [https://github.com/terna/SLAPP](https://github.com/terna/SLAPP)]\n",
    "* **debug** [documented in the *Reference Handbook*, at [https://github.com/terna/SLAPP](https://github.com/terna/SLAPP)]\n",
    "* **production** [documented in [Boero et al.](http://www.palgrave.com/it/book/9781137339805) (2015) book]\n",
    "* **oligopoly** [local version, documented at [https://github.com/terna/oligopoly](https://github.com/terna/oligopoly) where you can find further versions]\n",
    "* we have also the **school** project [documented in [Boero et al.](http://www.palgrave.com/it/book/9781137339805) (2015) book], but within [Binder](http://mybinder.org) it raises an error, being *turtle* based (turtle Python class reqires tkinter, not consistent with Jupyter); to run it you can download and install locally SLAPP, from [https://github.com/terna/SLAPP3](https://github.com/terna/SLAPP3)"
   ]
  },
  {
   "cell_type": "code",
   "execution_count": null,
   "metadata": {
    "collapsed": true
   },
   "outputs": [],
   "source": [
    "%run runShell.py"
   ]
  },
  {
   "cell_type": "markdown",
   "metadata": {},
   "source": [
    "- To launch a new projet use again the ▶︎****|**** button (or Shift+Enter), but only after restarting the kernel with the ⟳ button. Choosing **Kernel/Restart & Clear Output** you also have a clean restart."
   ]
  }
 ],
 "metadata": {
  "kernelspec": {
   "display_name": "Python 3",
   "language": "python",
   "name": "python3"
  },
  "language_info": {
   "codemirror_mode": {
    "name": "ipython",
    "version": 3
   },
   "file_extension": ".py",
   "mimetype": "text/x-python",
   "name": "python",
   "nbconvert_exporter": "python",
   "pygments_lexer": "ipython3",
   "version": "3.6.1"
  }
 },
 "nbformat": 4,
 "nbformat_minor": 2
}
